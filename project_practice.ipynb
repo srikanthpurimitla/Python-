{
  "cells": [
    {
      "cell_type": "markdown",
      "metadata": {
        "id": "view-in-github",
        "colab_type": "text"
      },
      "source": [
        "<a href=\"https://colab.research.google.com/github/srikanthpurimitla/Python-/blob/main/project_practice.ipynb\" target=\"_parent\"><img src=\"https://colab.research.google.com/assets/colab-badge.svg\" alt=\"Open In Colab\"/></a>"
      ]
    },
    {
      "cell_type": "markdown",
      "metadata": {
        "id": "kDn_lVxg3Z2G"
      },
      "source": [
        "# Importing a library that is not in Colaboratory\n",
        "\n",
        "To import a library that's not in Colaboratory by default, you can use `!pip install` or `!apt-get install`."
      ]
    },
    {
      "cell_type": "code",
      "execution_count": null,
      "metadata": {
        "colab": {
          "base_uri": "https://localhost:8080/"
        },
        "id": "GQ18Kd5F3uKe",
        "outputId": "e1d6587d-a48e-4988-830c-965b3a3397ca"
      },
      "outputs": [
        {
          "output_type": "stream",
          "name": "stdout",
          "text": [
            "Requirement already satisfied: matplotlib-venn in /usr/local/lib/python3.11/dist-packages (1.1.1)\n",
            "Requirement already satisfied: matplotlib in /usr/local/lib/python3.11/dist-packages (from matplotlib-venn) (3.10.0)\n",
            "Requirement already satisfied: numpy in /usr/local/lib/python3.11/dist-packages (from matplotlib-venn) (1.26.4)\n",
            "Requirement already satisfied: scipy in /usr/local/lib/python3.11/dist-packages (from matplotlib-venn) (1.13.1)\n",
            "Requirement already satisfied: contourpy>=1.0.1 in /usr/local/lib/python3.11/dist-packages (from matplotlib->matplotlib-venn) (1.3.1)\n",
            "Requirement already satisfied: cycler>=0.10 in /usr/local/lib/python3.11/dist-packages (from matplotlib->matplotlib-venn) (0.12.1)\n",
            "Requirement already satisfied: fonttools>=4.22.0 in /usr/local/lib/python3.11/dist-packages (from matplotlib->matplotlib-venn) (4.55.3)\n",
            "Requirement already satisfied: kiwisolver>=1.3.1 in /usr/local/lib/python3.11/dist-packages (from matplotlib->matplotlib-venn) (1.4.8)\n",
            "Requirement already satisfied: packaging>=20.0 in /usr/local/lib/python3.11/dist-packages (from matplotlib->matplotlib-venn) (24.2)\n",
            "Requirement already satisfied: pillow>=8 in /usr/local/lib/python3.11/dist-packages (from matplotlib->matplotlib-venn) (11.1.0)\n",
            "Requirement already satisfied: pyparsing>=2.3.1 in /usr/local/lib/python3.11/dist-packages (from matplotlib->matplotlib-venn) (3.2.1)\n",
            "Requirement already satisfied: python-dateutil>=2.7 in /usr/local/lib/python3.11/dist-packages (from matplotlib->matplotlib-venn) (2.8.2)\n",
            "Requirement already satisfied: six>=1.5 in /usr/local/lib/python3.11/dist-packages (from python-dateutil>=2.7->matplotlib->matplotlib-venn) (1.17.0)\n"
          ]
        }
      ],
      "source": [
        "!pip install matplotlib-venn"
      ]
    },
    {
      "cell_type": "code",
      "execution_count": null,
      "metadata": {
        "colab": {
          "base_uri": "https://localhost:8080/"
        },
        "id": "__3eqm3q3sr-",
        "outputId": "5ff41cd4-e775-495b-84ae-ed5c6fa177d4"
      },
      "outputs": [
        {
          "output_type": "stream",
          "name": "stdout",
          "text": [
            "E: Package 'libfluidsynth1' has no installation candidate\n"
          ]
        }
      ],
      "source": [
        "!apt-get -qq install -y libfluidsynth1"
      ]
    },
    {
      "cell_type": "markdown",
      "metadata": {
        "id": "apoRbfWsRZ7S"
      },
      "source": [
        "# Install 7zip reader [libarchive](https://pypi.python.org/pypi/libarchive)"
      ]
    },
    {
      "cell_type": "code",
      "execution_count": null,
      "metadata": {
        "colab": {
          "base_uri": "https://localhost:8080/"
        },
        "id": "d_j7nNbKRmhx",
        "outputId": "b7a26922-c7bd-431d-b820-fe62036547cd"
      },
      "outputs": [
        {
          "output_type": "stream",
          "name": "stdout",
          "text": [
            "Selecting previously unselected package libarchive-dev:amd64.\n",
            "(Reading database ... 124561 files and directories currently installed.)\n",
            "Preparing to unpack .../libarchive-dev_3.6.0-1ubuntu1.3_amd64.deb ...\n",
            "Unpacking libarchive-dev:amd64 (3.6.0-1ubuntu1.3) ...\n",
            "Setting up libarchive-dev:amd64 (3.6.0-1ubuntu1.3) ...\n",
            "Processing triggers for man-db (2.10.2-1) ...\n",
            "Collecting libarchive\n",
            "  Downloading libarchive-0.4.7.tar.gz (23 kB)\n",
            "  Preparing metadata (setup.py) ... \u001b[?25l\u001b[?25hdone\n",
            "Collecting nose (from libarchive)\n",
            "  Downloading nose-1.3.7-py3-none-any.whl.metadata (1.7 kB)\n",
            "Downloading nose-1.3.7-py3-none-any.whl (154 kB)\n",
            "\u001b[2K   \u001b[90m━━━━━━━━━━━━━━━━━━━━━━━━━━━━━━━━━━━━━━━━\u001b[0m \u001b[32m154.7/154.7 kB\u001b[0m \u001b[31m4.9 MB/s\u001b[0m eta \u001b[36m0:00:00\u001b[0m\n",
            "\u001b[?25hBuilding wheels for collected packages: libarchive\n",
            "  Building wheel for libarchive (setup.py) ... \u001b[?25l\u001b[?25hdone\n",
            "  Created wheel for libarchive: filename=libarchive-0.4.7-py3-none-any.whl size=31631 sha256=6bc274442e004506b568d2d631af6c14828855c5e2eb6dc128ed815ee3ec1451\n",
            "  Stored in directory: /root/.cache/pip/wheels/32/98/bd/4893d6923dd027f455b250367d402bfd69a6f4416581df46db\n",
            "Successfully built libarchive\n",
            "Installing collected packages: nose, libarchive\n",
            "Successfully installed libarchive-0.4.7 nose-1.3.7\n"
          ]
        }
      ],
      "source": [
        "# https://pypi.python.org/pypi/libarchive\n",
        "!apt-get -qq install -y libarchive-dev && pip install -U libarchive\n",
        "import libarchive"
      ]
    },
    {
      "cell_type": "markdown",
      "metadata": {
        "id": "PeaSX9KXR58J"
      },
      "source": [
        "# Install GraphViz & [PyDot](https://pypi.python.org/pypi/pydot)"
      ]
    },
    {
      "cell_type": "code",
      "execution_count": null,
      "metadata": {
        "colab": {
          "base_uri": "https://localhost:8080/"
        },
        "id": "w9llCG2wSRDx",
        "outputId": "544bbbda-3b6b-46ab-89f2-7ffdd7da9516"
      },
      "outputs": [
        {
          "output_type": "stream",
          "name": "stdout",
          "text": [
            "Requirement already satisfied: pydot in /usr/local/lib/python3.11/dist-packages (3.0.4)\n",
            "Requirement already satisfied: pyparsing>=3.0.9 in /usr/local/lib/python3.11/dist-packages (from pydot) (3.2.1)\n"
          ]
        }
      ],
      "source": [
        "# https://pypi.python.org/pypi/pydot\n",
        "!apt-get -qq install -y graphviz && pip install pydot\n",
        "import pydot"
      ]
    },
    {
      "cell_type": "markdown",
      "metadata": {
        "id": "Tlh1MKxGrKFO"
      },
      "source": [
        "# Install [cartopy](http://scitools.org.uk/cartopy/docs/latest/)"
      ]
    },
    {
      "cell_type": "code",
      "execution_count": null,
      "metadata": {
        "colab": {
          "base_uri": "https://localhost:8080/"
        },
        "id": "Zq68DSY2rP2W",
        "outputId": "9e468a83-c154-44ec-fb8e-51a0178263b5"
      },
      "outputs": [
        {
          "output_type": "stream",
          "name": "stdout",
          "text": [
            "Collecting cartopy\n",
            "  Downloading Cartopy-0.24.1-cp311-cp311-manylinux_2_17_x86_64.manylinux2014_x86_64.whl.metadata (7.9 kB)\n",
            "Requirement already satisfied: numpy>=1.23 in /usr/local/lib/python3.11/dist-packages (from cartopy) (1.26.4)\n",
            "Requirement already satisfied: matplotlib>=3.6 in /usr/local/lib/python3.11/dist-packages (from cartopy) (3.10.0)\n",
            "Requirement already satisfied: shapely>=1.8 in /usr/local/lib/python3.11/dist-packages (from cartopy) (2.0.6)\n",
            "Requirement already satisfied: packaging>=21 in /usr/local/lib/python3.11/dist-packages (from cartopy) (24.2)\n",
            "Requirement already satisfied: pyshp>=2.3 in /usr/local/lib/python3.11/dist-packages (from cartopy) (2.3.1)\n",
            "Requirement already satisfied: pyproj>=3.3.1 in /usr/local/lib/python3.11/dist-packages (from cartopy) (3.7.0)\n",
            "Requirement already satisfied: contourpy>=1.0.1 in /usr/local/lib/python3.11/dist-packages (from matplotlib>=3.6->cartopy) (1.3.1)\n",
            "Requirement already satisfied: cycler>=0.10 in /usr/local/lib/python3.11/dist-packages (from matplotlib>=3.6->cartopy) (0.12.1)\n",
            "Requirement already satisfied: fonttools>=4.22.0 in /usr/local/lib/python3.11/dist-packages (from matplotlib>=3.6->cartopy) (4.55.3)\n",
            "Requirement already satisfied: kiwisolver>=1.3.1 in /usr/local/lib/python3.11/dist-packages (from matplotlib>=3.6->cartopy) (1.4.8)\n",
            "Requirement already satisfied: pillow>=8 in /usr/local/lib/python3.11/dist-packages (from matplotlib>=3.6->cartopy) (11.1.0)\n",
            "Requirement already satisfied: pyparsing>=2.3.1 in /usr/local/lib/python3.11/dist-packages (from matplotlib>=3.6->cartopy) (3.2.1)\n",
            "Requirement already satisfied: python-dateutil>=2.7 in /usr/local/lib/python3.11/dist-packages (from matplotlib>=3.6->cartopy) (2.8.2)\n",
            "Requirement already satisfied: certifi in /usr/local/lib/python3.11/dist-packages (from pyproj>=3.3.1->cartopy) (2024.12.14)\n",
            "Requirement already satisfied: six>=1.5 in /usr/local/lib/python3.11/dist-packages (from python-dateutil>=2.7->matplotlib>=3.6->cartopy) (1.17.0)\n",
            "Downloading Cartopy-0.24.1-cp311-cp311-manylinux_2_17_x86_64.manylinux2014_x86_64.whl (11.7 MB)\n",
            "\u001b[2K   \u001b[90m━━━━━━━━━━━━━━━━━━━━━━━━━━━━━━━━━━━━━━━━\u001b[0m \u001b[32m11.7/11.7 MB\u001b[0m \u001b[31m84.8 MB/s\u001b[0m eta \u001b[36m0:00:00\u001b[0m\n",
            "\u001b[?25hInstalling collected packages: cartopy\n",
            "Successfully installed cartopy-0.24.1\n"
          ]
        }
      ],
      "source": [
        "!pip install cartopy\n",
        "import cartopy"
      ]
    },
    {
      "cell_type": "code",
      "source": [
        "!pip install python-docx"
      ],
      "metadata": {
        "colab": {
          "base_uri": "https://localhost:8080/"
        },
        "id": "HGT09aUNpvwQ",
        "outputId": "3d6dca85-8b25-4530-cad1-fbedc9119d94"
      },
      "execution_count": null,
      "outputs": [
        {
          "output_type": "stream",
          "name": "stdout",
          "text": [
            "Collecting python-docx\n",
            "  Downloading python_docx-1.1.2-py3-none-any.whl.metadata (2.0 kB)\n",
            "Requirement already satisfied: lxml>=3.1.0 in /usr/local/lib/python3.11/dist-packages (from python-docx) (5.3.0)\n",
            "Requirement already satisfied: typing-extensions>=4.9.0 in /usr/local/lib/python3.11/dist-packages (from python-docx) (4.12.2)\n",
            "Downloading python_docx-1.1.2-py3-none-any.whl (244 kB)\n",
            "\u001b[?25l   \u001b[90m━━━━━━━━━━━━━━━━━━━━━━━━━━━━━━━━━━━━━━━━\u001b[0m \u001b[32m0.0/244.3 kB\u001b[0m \u001b[31m?\u001b[0m eta \u001b[36m-:--:--\u001b[0m\r\u001b[2K   \u001b[90m━━━━━━━━━━━━━━━━━━━━━━━━━━━━━━━━━━━━━━━━\u001b[0m \u001b[32m244.3/244.3 kB\u001b[0m \u001b[31m7.9 MB/s\u001b[0m eta \u001b[36m0:00:00\u001b[0m\n",
            "\u001b[?25hInstalling collected packages: python-docx\n",
            "Successfully installed python-docx-1.1.2\n"
          ]
        }
      ]
    },
    {
      "cell_type": "code",
      "source": [
        "import random\n",
        "import docx\n",
        "import os\n",
        "'''\n",
        "# FOR TAKING INPUTS OF TEACHERS INFO\n",
        "print(\"===============================================\")\n",
        "noofteachers = int(input(\"ENTER NUMBER OF THEACHERS : \"))\n",
        "print(\"===============================================\")\n",
        "os.system('cls')\n",
        "teachers=[[] for _ in range(0,int(noofteachers))]\n",
        "for i in range(0,int(noofteachers)):\n",
        "    print(\"===============================================\")\n",
        "    print(\"Enter info of teacher \"+str(i+1)+\" :\")\n",
        "    print(\"===============================================\")\n",
        "    teachers[i].append(input(\"Name : \"))\n",
        "    teachers[i].append(input(\"Time Slot : \"))\n",
        "    print(\"-----------------------------------------------\")\n",
        "    teachers[i].append(input(\"subject(SE) : \"))\n",
        "    teachers[i].append(int(input(\"Th(SE) : \")))\n",
        "    teachers[i].append(int(input(\"PT(SE) : \")))\n",
        "    teachers[i].append(input(\"Enter lab room no(SE) : \"))\n",
        "    print(\"-----------------------------------------------\")\n",
        "    teachers[i].append(input(\"subject(TE) : \"))\n",
        "    teachers[i].append(int(input(\"Th(TE) : \")))\n",
        "    teachers[i].append(int(input(\"PT(TE) : \")))\n",
        "    teachers[i].append(input(\"Enter lab room no(TE) : \"))\n",
        "    print(\"-----------------------------------------------\")\n",
        "    teachers[i].append(input(\"subject(BE) : \"))\n",
        "    teachers[i].append(int(input(\"Th(BE) : \")))\n",
        "    teachers[i].append(int(input(\"PT(BE) : \")))\n",
        "    teachers[i].append(input(\"Enter lab room no(BE) : \"))\n",
        "    print(\"===============================================\")\n",
        "    os.system('cls')\n",
        "'''\n",
        "# SAMPLE OF TEACHERS FOR TESTING\n",
        "noofteachers=16\n",
        "teachers=teachers_data = [\n",
        "    [\"Mr. V. CHAKRADHAR\", \"C\", \"OS\", 3, 2, \"704\", \"\", 0, 0, \"\", \"\", 0, 0, \"\"],\n",
        "    [\"Mrs. R. HIMABINDU\", \"A\", \"MP\", 3, 2, \"701\", \"\", 0, 0, \"\", \"\", 0, 0, \"\"],\n",
        "    [\"Mr. P. V. NAGA SRINIVAS\", \"C\", \"DBMS\", 3, 2, \"LL\", \"\", 0, 0, \"\", \"\", 0, 0, \"\"],\n",
        "    [\"Mr. D. SEKHAR BABU\", \"B\", \"AOA\", 3, 2, \"702\", \"\", 0, 0, \"\", \"\", 0, 0, \"\"],\n",
        "    [\"Mr. T. N. SIVA KUMAR\", \"C\", \"PYTHON\", 2, 2, \"501\", \"\", 0, 0, \"\", \"\", 0, 0, \"\"],\n",
        "    [\"Mr. V. ROSHAN KUMAR\", \"D\", \"EM4\", 3, 0, \"\", \"\", 0, 0, \"\", \"\", 0, 0, \"\"],\n",
        "    [\"Mr. MD. ISMAIL KHAN\", \"A\", \"\", 0, 0, \"\", \"SPCC\", 3, 2, \"704\", \"\", 0, 0, \"\"],\n",
        "    [\"Mr. R. KARTHEEK\", \"C\", \"\", 0, 0, \"\", \"AI\", 3, 2, \"501\", \"\", 0, 0, \"\"],\n",
        "    [\"Mr. P. BHANU CHAND\", \"C\", \"\", 0, 0, \"\", \"CNSS\", 3, 2, \"108\", \"\", 0, 0, \"\"],\n",
        "    [\"Mr. N. VENKATESWARA RAO\", \"C\", \"\", 0, 0, \"\", \"MC\", 3, 2, \"704\", \"\", 0, 0, \"\"],\n",
        "    [\"Mrs. D. DWIJA\", \"A\", \"\", 0, 0, \"\", \"IOT\", 3, 0, \"\", \"\", 0, 0, \"\"],\n",
        "    [\"Mrs. K. NEELIMA\", \"C\", \"\", 0, 0, \"\", \"CC\", 0, 2, \"\", \"\", 0, 0, \"\"],\n",
        "    [\"Mrs. I. BHAVANA\", \"A\", \"\", 0, 0, \"\", \"\", 0, 0, \"\", \"HMI\", 4, 3, \"702\"],\n",
        "    [\"Mr. B. MANIKANTA\", \"C\", \"\", 0, 0, \"\", \"\", 0, 0, \"\", \"EM\", 3, 0, \"\"],\n",
        "    [\"Mr. K. JOHN BUNYAN\", \"A\", \"\", 0, 0, \"\", \"\", 0, 0, \"\", \"AWN\", 4, 3, \"501\"],\n",
        "    [\"Mrs. M. RISHITHA\", \"B\", \"\", 0, 0, \"\", \"\", 0, 0, \"\", \"DC\", 4, 3, \"\"],\n",
        "    [\"Mrs. G. V. LEELAKUMARI\", \"B\", \"DLD\", 3, 1, \"502\", \"ML\", 3, 2, \"703\", \"\", 0, 0, \"\"],\n",
        "    [\"Mr. M. BABU RAO\", \"A\", \"JAVA\", 4, 2, \"601\", \"DBMS\", 3, 1, \"602\", \"AI\", 3, 0, \"\"],\n",
        "    [\"Mr. M. VEERABRAHMAM\", \"C\", \"SOFTWARE ENG.\", 3, 0, \"\", \"CC\", 2, 2, \"703\", \"\", 0, 0, \"\"],\n",
        "    [\"Dr. P. RAMESH BABU\", \"A\", \"BIG DATA\", 3, 2, \"602\", \"IOT\", 2, 2, \"701\", \"DS\", 4, 0, \"\"],\n",
        "    [\"Mr. B. KISHORE BABU\", \"D\", \"OS\", 3, 1, \"601\", \"\", 0, 0, \"\", \"\", 0, 0, \"\"],\n",
        "    [\"Ms. ALLU ANEESHA\", \"B\", \"DBMS\", 2, 2, \"503\", \"JAVA\", 3, 2, \"601\", \"\", 0, 0, \"\"],\n",
        "    [\"P. BHAVANI\", \"C\", \"NETWORKS\", 3, 2, \"504\", \"\", 0, 0, \"\", \"\", 0, 0, \"\"]\n",
        "]\n",
        "\n",
        "\n",
        "# STRUCTURE OF TT\n",
        "se_tt=[[[\"LAB\",\"\"],[\"LAB\",\"\"],[],[],[],[]],[[],[],[\"LAB\",\"\"],[\"LAB\",\"\"],[],[]],[[],[],[],[],[],[]],[[],[],[],[],[],[]],[[\"LAB\",\"\"],[\"LAB\",\"\"],[],[],[],[]],[[\"LAB\",\"\"],[\"LAB\",\"\"],[\"LAB\",\"\"],[\"LAB\",\"\"],[],[]]]\n",
        "\n",
        "te_tt=[[[],[],[],[],[\"LAB\",\"\"],[\"LAB\",\"\"]],[[],[],[],[],[\"LAB\",\"\"],[\"LAB\",\"\"]],[[],[],[\"LAB\",\"\"],[\"LAB\",\"\"],[\"LAB\",\"\"],[\"LAB\",\"\"]],[[],[],[],[],[\"LAB\",\"\"],[\"LAB\",\"\"]],[[],[],[\"LAB\",\"\"],[\"LAB\",\"\"],[\"LAB\",\"\"],[\"LAB\",\"\"]],[[],[],[],[],[],[]]]\n",
        "\n",
        "be_tt=[[[],[],[],[\"DC LAB\",\"\"],[\"DC LAB\",\"\"],[\"DC LAB\",\"\"]],[[\"AWM LAB\",\"\"],[\"AWM LAB\",\"\"],[\"AWM LAB\",\"\"],[],[],[]],[[\"HCM LAB\",\"\"],[\"HCM LAB\",\"\"],[\"HCM LAB\",\"\"],[],[],[]],[[],[],[],[\"LAB\",\"\"],[\"LAB\",\"\"],[\"LAB\",\"\"]],[[],[],[],[],[],[]],[[],[],[],[],[],[]]]\n",
        "\n",
        "# SHUFFLE TEACHER LIST\n",
        "random.shuffle(teachers)\n",
        "\n",
        "def arrange_timetable(tt, teacher_subject_index, teacher_limit_index):\n",
        "    for i in range(6):\n",
        "        for j in range(6):\n",
        "            if len(tt[j][i]) == 0:\n",
        "                random.shuffle(teachers)\n",
        "                for z in range(int(noofteachers)):\n",
        "                    if i == 0 and teachers[z][1] == \"A\" and teachers[z][teacher_limit_index] != 0:\n",
        "                        teachers[z][teacher_limit_index] -= 1\n",
        "                        tt[j][i].append(teachers[z][teacher_subject_index])\n",
        "                        tt[j][i].append(teachers[z][0])\n",
        "                        break\n",
        "                    elif i == 5 and teachers[z][1] == \"B\" and teachers[z][teacher_limit_index] != 0:\n",
        "                        teachers[z][teacher_limit_index] -= 1\n",
        "                        tt[j][i].append(teachers[z][teacher_subject_index])\n",
        "                        tt[j][i].append(teachers[z][0])\n",
        "                        break\n",
        "                    elif i != 0 and i != 5 and teachers[z][teacher_limit_index] != 0:\n",
        "                        teachers[z][teacher_limit_index] -= 1\n",
        "                        tt[j][i].append(teachers[z][teacher_subject_index])\n",
        "                        tt[j][i].append(teachers[z][0])\n",
        "                        break\n",
        "\n",
        "# PRINTING ARRANGED TIMETABLES\n",
        "print(\"SE TIMETABLE :\")\n",
        "print(arrange_timetable(se_tt, 2, 3))\n",
        "print(\"\\n\\n\")\n",
        "print(\"TE TIMETABLE :\")\n",
        "print(arrange_timetable(te_tt, 6, 7))\n",
        "print(\"\\n\\n\")\n",
        "print(\"BE TIMETABLE :\")\n",
        "print(arrange_timetable(be_tt, 10, 11))\n",
        "\n",
        "# MAPPING DATA TO WORD FILE\n",
        "days=[\"MON\",\"TUE\",\"WED\",\"THU\",\"FRI\",\"SAT\"]\n",
        "\n",
        "# MAPPING SE TIME TABLE\n",
        "doc1=docx.Document()\n",
        "doc1.add_heading(\"Second Year Timetable\",0)\n",
        "\n",
        "se_timetable = doc1.add_table(rows=1,cols=7)\n",
        "se_timetable.style=\"Table Grid\"\n",
        "hdr_cells=se_timetable.rows[0].cells\n",
        "\n",
        "hdr_cells[1].text=\"7:30-8:20\"\n",
        "hdr_cells[2].text=\"8:20-9:10\"\n",
        "hdr_cells[3].text=\"9:10-10:00\"\n",
        "hdr_cells[4].text=\"10:30-11:20\"\n",
        "hdr_cells[5].text=\"11:20-12:10\"\n",
        "hdr_cells[6].text=\"12:10-1:00\"\n",
        "\n",
        "day=0\n",
        "\n",
        "for lec1,lec2,lec3,lec4,lec5,lec6 in se_tt:\n",
        "    row_cells=se_timetable.add_row().cells\n",
        "    row_cells[0].text=days[day]\n",
        "    day=day+1\n",
        "    for i in lec1:\n",
        "        row_cells[1].text=lec1[0]+\"(\"+lec1[1]+\")\"\n",
        "    for i in lec2:\n",
        "        row_cells[2].text=lec2[0]+\"(\"+lec2[1]+\")\"\n",
        "    for i in lec3:\n",
        "        row_cells[3].text=lec3[0]+\"(\"+lec3[1]+\")\"\n",
        "    for i in lec4:\n",
        "        row_cells[4].text=lec4[0]+\"(\"+lec4[1]+\")\"\n",
        "    for i in lec5:\n",
        "        row_cells[5].text=lec5[0]+\"(\"+lec5[1]+\")\"\n",
        "    for i in lec6:\n",
        "        row_cells[6].text=lec6[0]+\"(\"+lec6[1]+\")\"\n",
        "\n",
        "doc1.save(\"se_timetable.docx\")\n",
        "os.system(\"start se_timetable.docx\")\n",
        "\n",
        "# MAPPING TE TIME TABLE\n",
        "doc2=docx.Document()\n",
        "doc2.add_heading(\"Third Year Timetable\",0)\n",
        "\n",
        "te_timetable = doc2.add_table(rows=1,cols=7)\n",
        "te_timetable.style=\"Table Grid\"\n",
        "hdr_cells=te_timetable.rows[0].cells\n",
        "\n",
        "hdr_cells[1].text=\"7:30-8:20\"\n",
        "hdr_cells[2].text=\"8:20-9:10\"\n",
        "hdr_cells[3].text=\"9:10-10:00\"\n",
        "hdr_cells[4].text=\"10:30-11:20\"\n",
        "hdr_cells[5].text=\"11:20-12:10\"\n",
        "hdr_cells[6].text=\"12:10-1:00\"\n",
        "\n",
        "day=0\n",
        "\n",
        "for lec1,lec2,lec3,lec4,lec5,lec6 in te_tt:\n",
        "    row_cells=te_timetable.add_row().cells\n",
        "    row_cells[0].text=days[day]\n",
        "    day=day+1\n",
        "    for i in lec1:\n",
        "        row_cells[1].text=lec1[0]+\"(\"+lec1[1]+\")\"\n",
        "    for i in lec2:\n",
        "        row_cells[2].text=lec2[0]+\"(\"+lec2[1]+\")\"\n",
        "    for i in lec3:\n",
        "        row_cells[3].text=lec3[0]+\"(\"+lec3[1]+\")\"\n",
        "    for i in lec4:\n",
        "        row_cells[4].text=lec4[0]+\"(\"+lec4[1]+\")\"\n",
        "    for i in lec5:\n",
        "        row_cells[5].text=lec5[0]+\"(\"+lec5[1]+\")\"\n",
        "    for i in lec6:\n",
        "        row_cells[6].text=lec6[0]+\"(\"+lec6[1]+\")\"\n",
        "\n",
        "doc2.save(\"te_timetable.docx\")\n",
        "os.system(\"start te_timetable.docx\")\n",
        "\n",
        "# MAPPING BE TIME TABLE\n",
        "doc3=docx.Document()\n",
        "doc3.add_heading(\"Final Year Timetable\",0)\n",
        "\n",
        "be_timetable = doc3.add_table(rows=1,cols=7)\n",
        "be_timetable.style=\"Table Grid\"\n",
        "hdr_cells=be_timetable.rows[0].cells\n",
        "\n",
        "hdr_cells[1].text=\"7:30-8:20\"\n",
        "hdr_cells[2].text=\"8:20-9:10\"\n",
        "hdr_cells[3].text=\"9:10-10:00\"\n",
        "hdr_cells[4].text=\"10:30-11:20\"\n",
        "hdr_cells[5].text=\"11:20-12:10\"\n",
        "hdr_cells[6].text=\"12:10-1:00\"\n",
        "\n",
        "day=0\n",
        "\n",
        "for lec1,lec2,lec3,lec4,lec5,lec6 in be_tt:\n",
        "    row_cells=be_timetable.add_row().cells\n",
        "    row_cells[0].text=days[day]\n",
        "    day=day+1\n",
        "    for i in lec1:\n",
        "        row_cells[1].text=lec1[0]+\"(\"+lec1[1]+\")\"\n",
        "    for i in lec2:\n",
        "        row_cells[2].text=lec2[0]+\"(\"+lec2[1]+\")\"\n",
        "    for i in lec3:\n",
        "        row_cells[3].text=lec3[0]+\"(\"+lec3[1]+\")\"\n",
        "    for i in lec4:\n",
        "        row_cells[4].text=lec4[0]+\"(\"+lec4[1]+\")\"\n",
        "    for i in lec5:\n",
        "        row_cells[5].text=lec5[0]+\"(\"+lec5[1]+\")\"\n",
        "    for i in lec6:\n",
        "        row_cells[6].text=lec6[0]+\"(\"+lec6[1]+\")\"\n",
        "\n",
        "doc3.save(\"be_timetable.docx\")\n",
        "os.system(\"start be_timetable.docx\")"
      ],
      "metadata": {
        "colab": {
          "base_uri": "https://localhost:8080/"
        },
        "id": "fK314uEVpiiz",
        "outputId": "bdaa23e1-9140-4045-ad60-0b4aa9b4f920"
      },
      "execution_count": null,
      "outputs": [
        {
          "output_type": "stream",
          "name": "stdout",
          "text": [
            "SE TIMETABLE :\n",
            "None\n",
            "\n",
            "\n",
            "\n",
            "TE TIMETABLE :\n",
            "None\n",
            "\n",
            "\n",
            "\n",
            "BE TIMETABLE :\n",
            "None\n"
          ]
        },
        {
          "output_type": "execute_result",
          "data": {
            "text/plain": [
              "32512"
            ]
          },
          "metadata": {},
          "execution_count": 5
        }
      ]
    }
  ],
  "metadata": {
    "colab": {
      "provenance": [],
      "toc_visible": true,
      "include_colab_link": true
    },
    "kernelspec": {
      "display_name": "Python 3",
      "name": "python3"
    }
  },
  "nbformat": 4,
  "nbformat_minor": 0
}