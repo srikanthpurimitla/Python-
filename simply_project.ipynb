{
  "nbformat": 4,
  "nbformat_minor": 0,
  "metadata": {
    "colab": {
      "provenance": [],
      "authorship_tag": "ABX9TyMYvm0FHcZ83xlRElxkafi+",
      "include_colab_link": true
    },
    "kernelspec": {
      "name": "python3",
      "display_name": "Python 3"
    },
    "language_info": {
      "name": "python"
    }
  },
  "cells": [
    {
      "cell_type": "markdown",
      "metadata": {
        "id": "view-in-github",
        "colab_type": "text"
      },
      "source": [
        "<a href=\"https://colab.research.google.com/github/srikanthpurimitla/Python-/blob/main/simply_project.ipynb\" target=\"_parent\"><img src=\"https://colab.research.google.com/assets/colab-badge.svg\" alt=\"Open In Colab\"/></a>"
      ]
    },
    {
      "cell_type": "code",
      "execution_count": 4,
      "metadata": {
        "colab": {
          "base_uri": "https://localhost:8080/"
        },
        "id": "gXRCO_Lmo6IB",
        "outputId": "02e5130a-06b9-4025-93f7-f4e3a48c6ae1"
      },
      "outputs": [
        {
          "output_type": "stream",
          "name": "stdout",
          "text": [
            "Requirement already satisfied: python-docx in /usr/local/lib/python3.11/dist-packages (1.1.2)\n",
            "Requirement already satisfied: lxml>=3.1.0 in /usr/local/lib/python3.11/dist-packages (from python-docx) (5.3.0)\n",
            "Requirement already satisfied: typing-extensions>=4.9.0 in /usr/local/lib/python3.11/dist-packages (from python-docx) (4.12.2)\n"
          ]
        }
      ],
      "source": [
        "!pip install python-docx\n",
        "import random\n",
        "import docx\n",
        "import os\n",
        "\n",
        "def create_timetable_doc(title, timetable, filename):\n",
        "    \"\"\"Creates and saves a timetable document.\"\"\"\n",
        "    doc = docx.Document()\n",
        "    doc.add_heading(title, 0)\n",
        "\n",
        "    table = doc.add_table(rows=1, cols=7)\n",
        "    table.style = \"Table Grid\"\n",
        "    hdr_cells = table.rows[0].cells\n",
        "\n",
        "    time_slots = [\"7:30-8:20\", \"8:20-9:10\", \"9:10-10:00\", \"10:30-11:20\", \"11:20-12:10\", \"12:10-1:00\"]\n",
        "    for i, slot in enumerate(time_slots):\n",
        "        hdr_cells[i + 1].text = slot\n",
        "\n",
        "    days = [\"MON\", \"TUE\", \"WED\", \"THU\", \"FRI\", \"SAT\"]\n",
        "    for day_index, day in enumerate(days):\n",
        "        row_cells = table.add_row().cells\n",
        "        row_cells[0].text = day\n",
        "        for period_index, period in enumerate(timetable[day_index]):\n",
        "            if period:\n",
        "                row_cells[period_index + 1].text = f\"{period[0]} ({period[1]})\"\n",
        "\n",
        "    doc.save(filename)\n",
        "    os.system(f\"start {filename}\")\n",
        "\n",
        "def arrange_timetable(tt, teacher_subject_index, teacher_limit_index, noofteachers, teachers):\n",
        "    \"\"\"Arranges a timetable with available teachers.\"\"\"\n",
        "    for i in range(6):\n",
        "        for j in range(6):\n",
        "            if not tt[j][i]:\n",
        "                random.shuffle(teachers)\n",
        "                for teacher in teachers:\n",
        "                    if teacher[teacher_limit_index] > 0:\n",
        "                        if (i == 0 and teacher[1] == \"A\") or \\\n",
        "                           (i == 5 and teacher[1] == \"B\") or \\\n",
        "                           (i != 0 and i != 5):\n",
        "                            teacher[teacher_limit_index] -= 1\n",
        "                            tt[j][i].extend([teacher[teacher_subject_index], teacher[0]])\n",
        "                            break\n",
        "\n",
        "# Input Data\n",
        "noofteachers = 16\n",
        "teachers = [\n",
        "    [\"Mr. V. CHAKRADHAR\", \"C\", \"OS\", 3, 2, \"704\", \"\", 0, 0, \"\", \"\", 0, 0, \"\"],\n",
        "    [\"Mrs. R. HIMABINDU\", \"A\", \"MP\", 3, 2, \"701\", \"\", 0, 0, \"\", \"\", 0, 0, \"\"],\n",
        "    [\"Mr. P. V. NAGA SRINIVAS\", \"C\", \"DBMS\", 3, 2, \"LL\", \"\", 0, 0, \"\", \"\", 0, 0, \"\"],\n",
        "    [\"Mr. D. SEKHAR BABU\", \"B\", \"AOA\", 3, 2, \"702\", \"\", 0, 0, \"\", \"\", 0, 0, \"\"],\n",
        "    [\"Mr. T. N. SIVA KUMAR\", \"C\", \"PYTHON\", 2, 2, \"501\", \"\", 0, 0, \"\", \"\", 0, 0, \"\"],\n",
        "    [\"Mr. V. ROSHAN KUMAR\", \"D\", \"EM4\", 3, 0, \"\", \"\", 0, 0, \"\", \"\", 0, 0, \"\"],\n",
        "    [\"Mr. MD. ISMAIL KHAN\", \"A\", \"\", 0, 0, \"\", \"SPCC\", 3, 2, \"704\", \"\", 0, 0, \"\"],\n",
        "    [\"Mr. R. KARTHEEK\", \"C\", \"\", 0, 0, \"\", \"AI\", 3, 2, \"501\", \"\", 0, 0, \"\"],\n",
        "    [\"Mr. P. BHANU CHAND\", \"C\", \"\", 0, 0, \"\", \"CNSS\", 3, 2, \"108\", \"\", 0, 0, \"\"],\n",
        "    [\"Mr. N. VENKATESWARA RAO\", \"C\", \"\", 0, 0, \"\", \"MC\", 3, 2, \"704\", \"\", 0, 0, \"\"],\n",
        "    [\"Mrs. D. DWIJA\", \"A\", \"\", 0, 0, \"\", \"IOT\", 3, 0, \"\", \"\", 0, 0, \"\"],\n",
        "    [\"Mrs. K. NEELIMA\", \"C\", \"\", 0, 0, \"\", \"CC\", 0, 2, \"\", \"\", 0, 0, \"\"],\n",
        "    [\"Mrs. I. BHAVANA\", \"A\", \"\", 0, 0, \"\", \"\", 0, 0, \"\", \"HMI\", 4, 3, \"702\"],\n",
        "    [\"Mr. B. MANIKANTA\", \"C\", \"\", 0, 0, \"\", \"\", 0, 0, \"\", \"EM\", 3, 0, \"\"],\n",
        "    [\"Mr. K. JOHN BUNYAN\", \"A\", \"\", 0, 0, \"\", \"\", 0, 0, \"\", \"AWN\", 4, 3, \"501\"],\n",
        "    [\"Mrs. M. RISHITHA\", \"B\", \"\", 0, 0, \"\", \"\", 0, 0, \"\", \"DC\", 4, 3, \"\"],\n",
        "    [\"Mrs. G. V. LEELAKUMARI\", \"B\", \"DLD\", 3, 1, \"502\", \"ML\", 3, 2, \"703\", \"\", 0, 0, \"\"],\n",
        "    [\"Mr. M. BABU RAO\", \"A\", \"JAVA\", 4, 2, \"601\", \"DBMS\", 3, 1, \"602\", \"AI\", 3, 0, \"\"],\n",
        "    [\"Mr. M. VEERABRAHMAM\", \"C\", \"SOFTWARE ENG.\", 3, 0, \"\", \"CC\", 2, 2, \"703\", \"\", 0, 0, \"\"],\n",
        "    [\"Dr. P. RAMESH BABU\", \"A\", \"BIG DATA\", 3, 2, \"602\", \"IOT\", 2, 2, \"701\", \"DS\", 4, 0, \"\"],\n",
        "    [\"Mr. B. KISHORE BABU\", \"D\", \"OS\", 3, 1, \"601\", \"\", 0, 0, \"\", \"\", 0, 0, \"\"],\n",
        "    [\"Ms. ALLU ANEESHA\", \"B\", \"DBMS\", 2, 2, \"503\", \"JAVA\", 3, 2, \"601\", \"\", 0, 0, \"\"],\n",
        "    [\"P. BHAVANI\", \"C\", \"NETWORKS\", 3, 2, \"504\", \"\", 0, 0, \"\", \"\", 0, 0, \"\"]\n",
        "]\n",
        "\n",
        "# Timetables\n",
        "se_tt=[[[\"LAB\",\"\"],[\"LAB\",\"\"],[],[],[],[]],[[],[],[\"LAB\",\"\"],[\"LAB\",\"\"],[],[]],[[],[],[],[],[],[]],[[],[],[],[],[],[]],[[\"LAB\",\"\"],[\"LAB\",\"\"],[],[],[],[]],[[\"LAB\",\"\"],[\"LAB\",\"\"],[\"LAB\",\"\"],[\"LAB\",\"\"],[],[]]]\n",
        "\n",
        "te_tt=[[[],[],[],[],[\"LAB\",\"\"],[\"LAB\",\"\"]],[[],[],[],[],[\"LAB\",\"\"],[\"LAB\",\"\"]],[[],[],[\"LAB\",\"\"],[\"LAB\",\"\"],[\"LAB\",\"\"],[\"LAB\",\"\"]],[[],[],[],[],[\"LAB\",\"\"],[\"LAB\",\"\"]],[[],[],[\"LAB\",\"\"],[\"LAB\",\"\"],[\"LAB\",\"\"],[\"LAB\",\"\"]],[[],[],[],[],[],[]]]\n",
        "\n",
        "be_tt=[[[],[],[],[\"DC LAB\",\"\"],[\"DC LAB\",\"\"],[\"DC LAB\",\"\"]],[[\"AWM LAB\",\"\"],[\"AWM LAB\",\"\"],[\"AWM LAB\",\"\"],[],[],[]],[[\"HCM LAB\",\"\"],[\"HCM LAB\",\"\"],[\"HCM LAB\",\"\"],[],[],[]],[[],[],[],[\"LAB\",\"\"],[\"LAB\",\"\"],[\"LAB\",\"\"]],[[],[],[],[],[],[]],[[],[],[],[],[],[]]]\n",
        "\n",
        "# Arrange Timetables\n",
        "arrange_timetable(se_tt, 2, 3, noofteachers, teachers)\n",
        "arrange_timetable(te_tt, 6, 7, noofteachers, teachers)\n",
        "arrange_timetable(be_tt, 10, 11, noofteachers, teachers)\n",
        "\n",
        "# Create Word Documents\n",
        "create_timetable_doc(\"Second Year Timetable\", se_tt, \"se_timetable.docx\")\n",
        "create_timetable_doc(\"Third Year Timetable\", te_tt, \"te_timetable.docx\")\n",
        "create_timetable_doc(\"Final Year Timetable\", be_tt, \"be_timetable.docx\")\n"
      ]
    }
  ]
}