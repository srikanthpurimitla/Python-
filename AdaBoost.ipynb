{
 "cells": [
  {
   "cell_type": "code",
   "execution_count": 1,
   "id": "a2e9871c",
   "metadata": {},
   "outputs": [
    {
     "name": "stdout",
     "output_type": "stream",
     "text": [
      "Features: ['mean radius' 'mean texture' 'mean perimeter' 'mean area'\n",
      " 'mean smoothness' 'mean compactness' 'mean concavity'\n",
      " 'mean concave points' 'mean symmetry' 'mean fractal dimension'\n",
      " 'radius error' 'texture error' 'perimeter error' 'area error'\n",
      " 'smoothness error' 'compactness error' 'concavity error'\n",
      " 'concave points error' 'symmetry error' 'fractal dimension error'\n",
      " 'worst radius' 'worst texture' 'worst perimeter' 'worst area'\n",
      " 'worst smoothness' 'worst compactness' 'worst concavity'\n",
      " 'worst concave points' 'worst symmetry' 'worst fractal dimension']\n",
      "Labels: ['malignant' 'benign']\n",
      "(569, 30)\n",
      "##############################################################\n",
      "Accuracy: 0.9883040935672515\n",
      "Precision: 0.9908256880733946\n",
      "Recall: 0.9908256880733946\n",
      "Mean Absolute Error: 0.011695906432748537\n",
      "Mean Squared Error: 0.011695906432748537\n",
      "F-Measure: 0.9908256880733946\n",
      "##############################################################\n"
     ]
    }
   ],
   "source": [
    "from sklearn.ensemble import AdaBoostClassifier\n",
    "from sklearn import datasets\n",
    "from sklearn.model_selection import train_test_split\n",
    "from sklearn import metrics\n",
    "from sklearn.tree import DecisionTreeClassifier\n",
    "cancer = datasets.load_breast_cancer()\n",
    "print(\"Features:\", cancer.feature_names)\n",
    "print(\"Labels:\", cancer.target_names)\n",
    "print(cancer.data.shape)\n",
    "X_train, X_test, y_train, y_test = train_test_split(cancer.data, cancer.target, test_size=0.3)\n",
    "abc = AdaBoostClassifier(n_estimators=50, learning_rate=1)\n",
    "\n",
    "model = abc.fit(X_train, y_train)\n",
    "y_pred = model.predict(X_test)\n",
    "print(\"##############################################################\")\n",
    "print(\"Accuracy:\",metrics.accuracy_score(y_test, y_pred))\n",
    "print(\"Precision:\",metrics.precision_score(y_test, y_pred))\n",
    "print(\"Recall:\",metrics.recall_score(y_test, y_pred))\n",
    "print(\"Mean Absolute Error:\",metrics.mean_absolute_error(y_test, y_pred))\n",
    "print(\"Mean Squared Error:\",metrics.mean_squared_error(y_test, y_pred))\n",
    "print(\"F-Measure:\",metrics.recall_score(y_test, y_pred))\n",
    "print(\"##############################################################\")"
   ]
  },
  {
   "cell_type": "code",
   "execution_count": 2,
   "id": "632307c8",
   "metadata": {},
   "outputs": [
    {
     "name": "stderr",
     "output_type": "stream",
     "text": [
      "C:\\ProgramData\\anaconda3\\lib\\site-packages\\sklearn\\ensemble\\_base.py:166: FutureWarning: `base_estimator` was renamed to `estimator` in version 1.2 and will be removed in 1.4.\n",
      "  warnings.warn(\n"
     ]
    },
    {
     "name": "stdout",
     "output_type": "stream",
     "text": [
      "Accuracy: 0.9415204678362573\n"
     ]
    }
   ],
   "source": [
    "# Creating a decision tree classifier instance\n",
    "dtree = DecisionTreeClassifier(criterion='entropy', max_depth=1, random_state=1)\n",
    "# Instantiate the bagging classifier\n",
    "adbclassifier = AdaBoostClassifier(base_estimator=dtree,\n",
    "\n",
    "n_estimators=100,\n",
    "learning_rate=0.01,\n",
    "random_state=1)\n",
    "# Fit the AdaBoost classifier\n",
    "model = adbclassifier.fit(X_train, y_train)\n",
    "#Predict the response for test dataset\n",
    "y_pred = model.predict(X_test)\n",
    "# Model Accuracy, how often is the classifier correct?\n",
    "print(\"Accuracy:\",metrics.accuracy_score(y_test, y_pred))"
   ]
  },
  {
   "cell_type": "code",
   "execution_count": 3,
   "id": "63778e52",
   "metadata": {},
   "outputs": [
    {
     "name": "stdout",
     "output_type": "stream",
     "text": [
      "Accuracy: 0.9707602339181286\n"
     ]
    },
    {
     "name": "stderr",
     "output_type": "stream",
     "text": [
      "C:\\ProgramData\\anaconda3\\lib\\site-packages\\sklearn\\ensemble\\_base.py:166: FutureWarning: `base_estimator` was renamed to `estimator` in version 1.2 and will be removed in 1.4.\n",
      "  warnings.warn(\n"
     ]
    }
   ],
   "source": [
    "from sklearn.ensemble import RandomForestClassifier\n",
    "# Creating a decision tree classifier instance\n",
    "\n",
    "rf = RandomForestClassifier(n_estimators=20, random_state=0)\n",
    "\n",
    "# Instantiate the bagging classifier\n",
    "adbclassifier = AdaBoostClassifier(base_estimator=rf,\n",
    "\n",
    "n_estimators=100,\n",
    "learning_rate=0.01,\n",
    "random_state=1)\n",
    "\n",
    "# Fit the AdaBoost classifier\n",
    "model = adbclassifier.fit(X_train, y_train)\n",
    "\n",
    "#Predict the response for test dataset\n",
    "y_pred = model.predict(X_test)\n",
    "\n",
    "# Model Accuracy, how often is the classifier correct?\n",
    "print(\"Accuracy:\",metrics.accuracy_score(y_test, y_pred))"
   ]
  }
 ],
 "metadata": {
  "kernelspec": {
   "display_name": "Python 3 (ipykernel)",
   "language": "python",
   "name": "python3"
  },
  "language_info": {
   "codemirror_mode": {
    "name": "ipython",
    "version": 3
   },
   "file_extension": ".py",
   "mimetype": "text/x-python",
   "name": "python",
   "nbconvert_exporter": "python",
   "pygments_lexer": "ipython3",
   "version": "3.10.9"
  }
 },
 "nbformat": 4,
 "nbformat_minor": 5
}
