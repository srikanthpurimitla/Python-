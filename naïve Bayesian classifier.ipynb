{
 "cells": [
  {
   "cell_type": "code",
   "execution_count": 1,
   "metadata": {},
   "outputs": [],
   "source": [
    "import pandas as pd\n",
    "from sklearn.preprocessing import LabelEncoder\n",
    "from sklearn.model_selection import train_test_split\n",
    "from sklearn.naive_bayes import GaussianNB\n",
    "from sklearn.metrics import accuracy_score"
   ]
  },
  {
   "cell_type": "code",
   "execution_count": 2,
   "metadata": {},
   "outputs": [
    {
     "name": "stdout",
     "output_type": "stream",
     "text": [
      "given dataset is: \n",
      "      outlook Temperature Humidity    Wind PlayTennis\n",
      "0      Sunny         Hot     High    Weak         No\n",
      "1      Sunny         Hot     High  Strong         No\n",
      "2   Overcast         Hot     High    Weak        Yes\n",
      "3       Rain        Mild     High    Weak        Yes\n",
      "4       Rain        Cool   Normal    Weak        Yes\n",
      "5       Rain        Cool   Normal  Strong         No\n",
      "6   Overcast        Cool   Normal  Strong        Yes\n",
      "7      Sunny        Mild     High    Weak         No\n",
      "8      Sunny        Cool   Normal    Weak        Yes\n",
      "9       Rain        Mild   Normal    Weak        Yes\n",
      "10     Sunny        Mild   Normal  Strong        Yes\n",
      "11  Overcast        Mild     High  Strong        Yes\n",
      "12  Overcast         Hot   Normal    Weak        Yes\n",
      "13      Rain        Mild     High  Strong         No \n",
      "\n"
     ]
    }
   ],
   "source": [
    "playtennis=pd.read_csv(\"Z:/SEM6/ML/datasets/playtennis.csv\")\n",
    "print(\"given dataset is: \\n\",playtennis,\"\\n\")"
   ]
  },
  {
   "cell_type": "code",
   "execution_count": 3,
   "metadata": {},
   "outputs": [
    {
     "name": "stdout",
     "output_type": "stream",
     "text": [
      "the encoding dataset is \n",
      "     outlook  Temperature  Humidity  Wind  PlayTennis\n",
      "0         2            1         0     1           0\n",
      "1         2            1         0     0           0\n",
      "2         0            1         0     1           1\n",
      "3         1            2         0     1           1\n",
      "4         1            0         1     1           1\n",
      "5         1            0         1     0           0\n",
      "6         0            0         1     0           1\n",
      "7         2            2         0     1           0\n",
      "8         2            0         1     1           1\n",
      "9         1            2         1     1           1\n",
      "10        2            2         1     0           1\n",
      "11        0            2         0     0           1\n",
      "12        0            1         1     1           1\n",
      "13        1            2         0     0           0\n"
     ]
    }
   ],
   "source": [
    "le=LabelEncoder()\n",
    "playtennis['outlook']=le.fit_transform(playtennis['outlook'])\n",
    "playtennis['Temperature']=le.fit_transform(playtennis['Temperature'])\n",
    "playtennis['Humidity']=le.fit_transform(playtennis['Humidity'])\n",
    "playtennis['Wind']=le.fit_transform(playtennis['Wind'])\n",
    "playtennis['PlayTennis']=le.fit_transform(playtennis['PlayTennis'])\n",
    "print(\"the encoding dataset is \\n\",playtennis)"
   ]
  },
  {
   "cell_type": "code",
   "execution_count": 4,
   "metadata": {},
   "outputs": [
    {
     "name": "stdout",
     "output_type": "stream",
     "text": [
      "\n",
      " x_train : \n",
      "     outlook  Temperature  Humidity  Wind\n",
      "3         1            2         0     1\n",
      "0         2            1         0     1\n",
      "13        1            2         0     0\n",
      "4         1            0         1     1\n",
      "6         0            0         1     0\n",
      "7         2            2         0     1\n",
      "9         1            2         1     1\n",
      "5         1            0         1     0\n",
      "12        0            1         1     1\n",
      "8         2            0         1     1\n",
      "10        2            2         1     0\n",
      "\n",
      " y_train : \n",
      " 3     1\n",
      "0     0\n",
      "13    0\n",
      "4     1\n",
      "6     1\n",
      "7     0\n",
      "9     1\n",
      "5     0\n",
      "12    1\n",
      "8     1\n",
      "10    1\n",
      "Name: PlayTennis, dtype: int32\n"
     ]
    }
   ],
   "source": [
    "x=playtennis.drop(['PlayTennis'], axis=1)\n",
    "y=playtennis['PlayTennis']\n",
    "x_train,x_test,y_train,y_test=train_test_split(x,y,test_size=0.20)\n",
    "print(\"\\n x_train : \\n\",x_train)\n",
    "print(\"\\n y_train : \\n\",y_train)"
   ]
  },
  {
   "cell_type": "code",
   "execution_count": 5,
   "metadata": {},
   "outputs": [
    {
     "name": "stdout",
     "output_type": "stream",
     "text": [
      "\n",
      " Accuracy of Naive Bayes classifier: 1.0\n"
     ]
    }
   ],
   "source": [
    "model=GaussianNB()\n",
    "model.fit(x_train,y_train)\n",
    "y_pred = model.predict(x_test)\n",
    "accuracy= accuracy_score(y_test,y_pred)\n",
    "print(\"\\n Accuracy of Naive Bayes classifier:\",accuracy)"
   ]
  }
 ],
 "metadata": {
  "kernelspec": {
   "display_name": "Python 3 (ipykernel)",
   "language": "python",
   "name": "python3"
  },
  "language_info": {
   "codemirror_mode": {
    "name": "ipython",
    "version": 3
   },
   "file_extension": ".py",
   "mimetype": "text/x-python",
   "name": "python",
   "nbconvert_exporter": "python",
   "pygments_lexer": "ipython3",
   "version": "3.10.9"
  }
 },
 "nbformat": 4,
 "nbformat_minor": 2
}
