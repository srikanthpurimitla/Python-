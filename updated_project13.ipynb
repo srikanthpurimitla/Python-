{
  "nbformat": 4,
  "nbformat_minor": 0,
  "metadata": {
    "colab": {
      "provenance": [],
      "authorship_tag": "ABX9TyMs9qwCuX8xheYcXG9L84bp",
      "include_colab_link": true
    },
    "kernelspec": {
      "name": "python3",
      "display_name": "Python 3"
    },
    "language_info": {
      "name": "python"
    }
  },
  "cells": [
    {
      "cell_type": "markdown",
      "metadata": {
        "id": "view-in-github",
        "colab_type": "text"
      },
      "source": [
        "<a href=\"https://colab.research.google.com/github/srikanthpurimitla/Python-/blob/main/updated_project13.ipynb\" target=\"_parent\"><img src=\"https://colab.research.google.com/assets/colab-badge.svg\" alt=\"Open In Colab\"/></a>"
      ]
    },
    {
      "cell_type": "code",
      "execution_count": 22,
      "metadata": {
        "colab": {
          "base_uri": "https://localhost:8080/"
        },
        "id": "yNqhDYPNmNeF",
        "outputId": "325d3cb5-64a2-40d2-de0b-ad43e9de73bd"
      },
      "outputs": [
        {
          "output_type": "stream",
          "name": "stdout",
          "text": [
            "Requirement already satisfied: python-docx in /usr/local/lib/python3.11/dist-packages (1.1.2)\n",
            "Requirement already satisfied: lxml>=3.1.0 in /usr/local/lib/python3.11/dist-packages (from python-docx) (5.3.0)\n",
            "Requirement already satisfied: typing-extensions>=4.9.0 in /usr/local/lib/python3.11/dist-packages (from python-docx) (4.12.2)\n"
          ]
        }
      ],
      "source": [
        "!pip install python-docx\n",
        "import random\n",
        "import docx\n",
        "import os\n",
        "\n",
        "def create_timetable_doc(title, timetable, filename):\n",
        "    \"\"\"Creates and saves a timetable document.\"\"\"\n",
        "    doc = docx.Document()\n",
        "    doc.add_heading(title, 0)\n",
        "\n",
        "    table = doc.add_table(rows=1, cols=7)\n",
        "    table.style = \"Table Grid\"\n",
        "    hdr_cells = table.rows[0].cells\n",
        "\n",
        "    time_slots = [\"7:30-8:20\", \"8:20-9:10\", \"9:10-10:00\", \"10:30-11:20\", \"11:20-12:10\", \"12:10-1:00\"]\n",
        "    for i, slot in enumerate(time_slots):\n",
        "        hdr_cells[i + 1].text = slot\n",
        "\n",
        "    days = [\"MON\", \"TUE\", \"WED\", \"THU\", \"FRI\", \"SAT\"]\n",
        "    for day_index, day in enumerate(days):\n",
        "        row_cells = table.add_row().cells\n",
        "        row_cells[0].text = day\n",
        "        for period_index, period in enumerate(timetable[day_index]):\n",
        "            if period:\n",
        "                row_cells[period_index + 1].text = f\"{period[0]} ({period[1]})\"\n",
        "\n",
        "    doc.save(filename)\n",
        "    os.system(f\"start {filename}\")\n",
        "\n",
        "def arrange_timetable(tt, teacher_subject_index, teacher_limit_index, noofteachers, teachers):\n",
        "    \"\"\"Arranges a timetable with available teachers.\"\"\"\n",
        "    for i in range(6):\n",
        "        for j in range(6):\n",
        "            if not tt[j][i]:\n",
        "                random.shuffle(teachers)\n",
        "                for teacher in teachers:\n",
        "                    if teacher[teacher_limit_index] > 0:\n",
        "                        if (i == 0 and teacher[1] == \"A\") or \\\n",
        "                           (i == 5 and teacher[1] == \"B\") or \\\n",
        "                           (i != 0 and i != 5):\n",
        "                            teacher[teacher_limit_index] -= 1\n",
        "                            tt[j][i].extend([teacher[teacher_subject_index], teacher[0]])\n",
        "                            break\n",
        "\n",
        "# Input Data\n",
        "noofteachers = 26\n",
        "teachers = [[\"Mr.V.CHAKRADHAR\",\"C\",\"\",0,0,\"\",\"\",0,0,\"\",\"OS\",4,0,\"\",\"OS\",4,0,\"\",\"\",0,0,\"\",\"\",0,0,\"\",\"\",0,0,\"\",\"\",0,0,\"\",\"\",0,0,\"\",\"\",0,0,\"\"],\n",
        "[\"Mrs. R. HIMABINDU\",\"A\",\"\",0,0,\"\",\"\",0,0,\"\",\"\",0,0,\"\",\"\",0,0,\"\",\"\",0,0,\"\",\"ML\",4,3,\"401\",\"ML\",4,3,\"501\",\"\",0,0,\"\",\"\",0,0,\"\",\"NLP\",4,3,\"701\"],\n",
        "[\"Mr. P.V. NAGA SRINIVAS\",\"C\",\"\",0,0,\"\",\"\",0,0,\"\",\"\",0,0,\"\",\"\",0,0,\"\",\"\",0,0,\"\",\"\",0,0,\"\",\"\",0,0,\"\",\"ATFL\",4,0,\"\",\"ATFL\",4,0,\"\",\"\",0,0,\"\"],\n",
        "[\"Mr. D SEKHAR BABU\" ,\"B\",\"\",0,0,\"\",\"DS\",4,3,\"201\",\"\",0,0,\"\",\"\",0,0,\"\",\"\",0,0,\"\",\"\",0,0,\"\",\"\",0,0,\"\",\"\",0,0,\"\",\"\",0,0,\"\",\"\",0,0,\"\"],\n",
        "[\"Mr.T N SIVA KUMAR\",\"C\",\"\",0,0,\"\",\"\",0,0,\"\",\"\",0,0,\"\",\"\",0,0,\"\",\"\",0,0,\"\",\"EP\",3,3,\"404\",\"EP\",3,3,\"503\",\"\",0,0,\"\",\"\",0,0,\"\",\"\",0,0,\"\"],\n",
        "[\"Mr.V. ROSHAN KUMAR\",\"D\",\"\",0,0,\"\",\"\",0,0,\"\",\"\",0,0,\"\",\"\",0,0,\"\",\"\",0,0,\"\",\"\",0,0,\"\",\"\",0,0,\"\",\"\",0,0,\"\",\"\",0,0,\"\",\"\",0,0,\"\"],\n",
        "[\"Mr.MD.ISMAIL KHAN\",\"A\",\"CO\",4,0,\"\",\"\",0,0,\"\",\"\",0,0,\"\",\"\",0,0,\"\",\"\",0,0,\"\",\"\",0,0,\"\",\"\",0,0,\"\",\"\",0,0,\"\",\"DHV\",4,3,\"702\",\"\",0,0,\"\"],\n",
        "[\"Mr.R. KARTHEEK\",\"C\",\"OOPS\",4,3,\"101\",\"\",0,0,\"\",\"\",0,0,\"\",\"\",0,0,\"\",\"\",0,0,\"\",\"\",0,0,\"\",\"\",0,0,\"\",\"\",0,0,\"\",\"\",0,0,\"\",\"CCIDF\",3,0,\"\"],\n",
        "[\"Mr.P. BHANU CHAND\",\"C\",\"\",0,0,\"\",\"\",0,0,\"\",\"DS\",4,3,\"301\",\"\",0,0,\"\",\"DS\",4,3,201,\"\",0,0,\"\",\"\",0,0,\"\",\"\",0,0,\"\",\"\",0,0,\"\",\"\",0,0,\"\"],\n",
        "[\"Mr.N. VENKATESWARA RAO\",\"C\",\"\",0,0,\"\",\"\",0,0,\"\",\"\",0,0,\"\",\"\",0,0,\"\",\"\",0,0,\"\",\"DMDW\",4,3,\"403\",\"\",0,0,\"\",\"\",0,0,\"\",\"\",0,0,\"\",\"\",0,0,\"\"],\n",
        "[\"Mrs.D. DWIJA\",\"A\",\"\",0,0,\"\",\"\",0,0,\"\",\"\",0,0,\"\",\"\",0,0,\"\",\"\",0,0,\"\",\"SE\",4,3,\"402\",\"\",0,0,\"\",\"SE\",4,3,\"601\",\"\",0,0,\"\",\"\",0,0,\"\"],\n",
        "[\"Mrs.K. NEELIMA\" ,\"C\",\"\",0,0,\"\",\"OOPS\",4,3,\"202\",\"\",0,0,\"\",\"\",0,0,\"\",\"OOPS\",4,3,\"102\",\"\",0,0,\"\",\"\",0,0,\"\",\"\",0,0,\"\",\"\",0,0,\"\",\"\",0,0,\"\"],\n",
        "[\"Mrs.  I BHAVANA\",\"A\",\"\",0,0,\"\",\"CO\",4,0,\"\",\"\",4,3,\"\",\"CO\",4,0,\"\",\"\",0,0,\"\",\"\",0,0,\"\",\"\",0,0,\"\",\"\",0,0,\"\",\"\",0,0,\"\",\"\",0,0,\"\"],\n",
        "[\"Mr. B. MANIKANTA\",\"C\",\"PYTHON\",3,3,\"102\",\"\",0,0,\"\",\"\",3,0,\"\",\"PYTHON\",3,3,\"103\",\"\",0,0,\"\",\"\",0,0,\"\",\"EITK\",2,0,\"\",\"EH&SE\",4,3,\"602\",\"EITK\",2,0,\"\",\"\",0,0,\"\"],\n",
        "[\"Mr.K JOHN BUNYAN\",\"A\",\"\",0,0,\"\",\"\",0,0,\"\",\"\",4,3,\"\",\"\",0,0,\"\",\"\",0,0,\"\",\"EITK\",2,0,\"\",\"CN\",3,0,\"\",\"EITK\",2,0,\"\",\"CN\",3,0,\"\",\"\",0,0,\"\"],\n",
        "[\"Mrs. M. RISHITHA\",\"B\",\"\",0,0,\"\",\"\",0,0,\"\",\"\",4,3,\"\",\"\",0,0,\"\",\"\",0,0,\"\",\"CN\",3,0,\"\",\"\",0,0,\"\",\"CN\",3,0,\"\",\"\",0,0,\"\",\"\",0,0,\"\"],\n",
        "[\"Mrs. G.V. LEELAKUMARI\",\"C\",\"\",0,0,\"\",\"\",0,0,\"\",\"OOPS\",4,3,\"302\",\"OOPS\",4,3,\"102\",\"\",0,0,\"\",\"\",0,0,\"\",\"\",0,0,\"\",\"\",0,0,\"\",\"\",0,0,\"\",\"\",0,0,\"\"],\n",
        "[\"Mr. M BABU RAO\",\"A\",\"DS\",4,3,\"101\",\"\",0,0,\"\",\"\",0,0,\"\",\"DS\",4,3,\"101\",\"\",0,0,\"\",\"\",0,0,\"\",\"\",0,0,\"\",\"\",0,0,\"\",\"\",0,0,\"\",\"BDA\",4,3,\"702\"],\n",
        "[\"Mr.M.VEERABRAHMAM\",\"C\",\"\",0,0,\"\",\"\",0,0,\"\",\"PE&HV\",2,0,\"\",\"\",0,0,\"\",\"PE&HV\",2,0,\"\",\"\",0,0,\"\",\"SE\",4,3,\"501\",\"\",0,0,\"\",\"SE\",4,3,\"701\",\"\",0,0,\"\"],\n",
        "[\"Dr.P.RAMESH BABU\",\"A\",\"OS\",4,0,\"\",\"\",0,0,\"\",\"\",0,0,\"\",\"\",0,0,\"\",\"OS\",4,0,\"\",\"\",0,0,\"\",\"DMDW\",4,3,\"503\",\"\",0,0,\"\",\"\",0,0,\"\",\"\",0,0,\"\"],\n",
        "[\"Mr.B.KISHORE BABU\",\"C\",\"\",0,0,\"\",\"\",0,0,\"\",\"CO\",4,0,\"\",\"\",0,0,\"\",\"CO\",4,0,\"\",\"\",0,0,\"\",\"\",0,0,\"\",\"IISCL\",3,0,\"\",\"IISCL\",3,0,\"\",\"\",0,0,\"\"],\n",
        "[\"Ms.ALLU ANEESHA\",\"A\",\"\",\"\",0,\"\",\"PYTHON\",3,3,\"201\",\"PYTHON\",3,3,\"302\",\"\",0,0,\"\",\"PYTHON\",3,3,\"103\",\"\",0,0,\"\",\"\",0,0,\"\",\"\",0,0,\"\",\"\",0,0,\"\",\"\",0,0,\"\"],\n",
        "[\"P. BHAVANI\",\"B\",\"PE&HV\",2,0,\"\",\"PE&HV\",2,0,\"\",\"\",0,0,\"\",\"PE&HV\",2,0,\"\",\"\",0,0,\"\",\"\",0,0,\"\",\"\",0,0,\"\",\"\",0,0,\"\",\"\",0,0,\"\",\"\",0,0,\"\"],\n",
        "[\"MATH\",\"A\",\"P&S\",4,0,\"\",\"P&S\",4,0,\"\",\"P&S\",4,0,\"\",\"P&S\",4,0,\"\",\"P&S\",4,0,\"\",\"\",0,0,\"\",\"\",0,0,\"\",\"\",0,0,\"\",\"\",0,0,\"\",\"\",0,0,\"\"],\n",
        "[\"IMED\",\"C\",\"\",0,0,\"\",\"\",0,0,\"\",\"\",0,0,\"\",\"\",0,0,\"\",\"\",0,0,\"\",\"\",0,0,\"\",\"\",0,0,\"\",\"\",0,0,\"\",\"\",0,0,\"\",\"IMED\",4,0,\"\"],\n",
        "[\"OE\",\"B\",\"\",0,0,\"\",\"\",0,0,\"\",\"\",0,0,\"\",\"\",0,0,\"\",\"\",0,0,\"\",\"\",0,0,\"\",\"\",0,0,\"\",\"\",0,0,\"\",\"\",0,0,\"\",\"OE\",4,0,\"\"]]\n",
        "\n",
        "\n",
        "# Timetables\n",
        "first_tt = [[[], [], [], [], [], []] for _ in range(6)]\n",
        "second_tt = [[[], [], [], [], [], []] for _ in range(6)]\n",
        "three_tt = [[[], [], [], [], [], []] for _ in range(6)]\n",
        "four_tt = [[[], [], [], [], [], []] for _ in range(6)]\n",
        "five_tt = [[[], [], [], [], [], []] for _ in range(6)]\n",
        "six_tt = [[[], [], [], [], [], []] for _ in range(6)]\n",
        "seven_tt = [[[], [], [], [], [], []] for _ in range(6)]\n",
        "eight_tt = [[[], [], [], [], [], []] for _ in range(6)]\n",
        "nine_tt = [[[], [], [], [], [], []] for _ in range(6)]\n",
        "ten_tt = [[[], [], [], [], [], []] for _ in range(6)]\n",
        "\n",
        "# Arrange Timetables\n",
        "arrange_timetable(first_tt, 3, 4, noofteachers, teachers)\n",
        "arrange_timetable(second_tt, 7, 8, noofteachers, teachers)\n",
        "arrange_timetable(three_tt, 11, 12, noofteachers, teachers)\n",
        "arrange_timetable(four_tt, 15, 16, noofteachers, teachers)\n",
        "arrange_timetable(five_tt, 19, 20, noofteachers, teachers)\n",
        "arrange_timetable(six_tt, 23, 24, noofteachers, teachers)\n",
        "arrange_timetable(seven_tt, 27, 28, noofteachers, teachers)\n",
        "arrange_timetable(eight_tt, 31, 32, noofteachers, teachers)\n",
        "arrange_timetable(nine_tt, 35, 36, noofteachers, teachers)\n",
        "arrange_timetable(ten_tt, 39, 40, noofteachers, teachers)\n",
        "\n",
        "# Create Word Documents\n",
        "create_timetable_doc(\"Second Year Timetable\", first_tt, \"first_timetable.docx\")\n",
        "create_timetable_doc(\"Third Year Timetable\", second_tt, \"second_timetable.docx\")\n",
        "create_timetable_doc(\"Final Year Timetable\", three_tt, \"three_timetable.docx\")\n",
        "create_timetable_doc(\"Second Year Timetable\", four_tt, \"four_timetable.docx\")\n",
        "create_timetable_doc(\"Third Year Timetable\", five_tt, \"five_timetable.docx\")\n",
        "create_timetable_doc(\"Final Year Timetable\", six_tt, \"six_timetable.docx\")\n",
        "create_timetable_doc(\"Second Year Timetable\", seven_tt, \"seven_timetable.docx\")\n",
        "create_timetable_doc(\"Third Year Timetable\", eight_tt, \"eight_timetable.docx\")\n",
        "create_timetable_doc(\"Final Year Timetable\", nine_tt, \"nine_timetable.docx\")\n",
        "create_timetable_doc(\"Final Year Timetable\", ten_tt, \"ten_timetable.docx\")\n"
      ]
    },
    {
      "cell_type": "code",
      "source": [],
      "metadata": {
        "id": "2_1Ck69r1Ju5"
      },
      "execution_count": 22,
      "outputs": []
    }
  ]
}