{
 "cells": [
  {
   "cell_type": "code",
   "execution_count": 1,
   "metadata": {},
   "outputs": [
    {
     "data": {
      "text/plain": [
       "<Figure size 640x480 with 1 Axes>"
      ]
     },
     "metadata": {},
     "output_type": "display_data"
    }
   ],
   "source": [
    "import numpy as np\n",
    "import matplotlib.pyplot as plt\n",
    "\n",
    "# Generate sample data\n",
    "height = np.array([63, 64, 66, 69, 69]) # inches\n",
    "weight = np.array([127, 121, 142, 157, 162]) # pounds\n",
    "\n",
    "# Calculate the mean of height and weight\n",
    "mean_height = np.mean(height)\n",
    "mean_weight = np.mean(weight)\n",
    "\n",
    "# Calculate the slope and intercept of the regression line\n",
    "numerator = np.sum((height - mean_height) * (weight - mean_weight))\n",
    "denominator = np.sum((height - mean_height) ** 2)\n",
    "slope = numerator / denominator\n",
    "intercept = mean_weight - slope * mean_height\n",
    "\n",
    "# Predict weights for given heights\n",
    "new_heights = np.array([62, 65, 67, 70])\n",
    "predicted_weights = slope * new_heights + intercept\n",
    "\n",
    "# Plot the regression line and the data points\n",
    "plt.scatter(height, weight, marker='*', label='Data points')\n",
    "plt.plot(height, slope * height + intercept, color='red', label='Regression line')\n",
    "plt.scatter(new_heights, predicted_weights, marker='o', color='green', label='Predicted weights')\n",
    "plt.xlabel('Height (inches)')\n",
    "plt.ylabel('Weight (pounds)')\n",
    "plt.legend()\n",
    "plt.show()\n",
    "\n"
   ]
  },
  {
   "cell_type": "code",
   "execution_count": 2,
   "metadata": {},
   "outputs": [],
   "source": [
    "# Generate sample data\n",
    "height = np.array([63, 64, 66, 69, 69]) # inches\n",
    "weight = np.array([127, 121, 142, 157, 162]) # pounds\n"
   ]
  },
  {
   "cell_type": "code",
   "execution_count": 3,
   "metadata": {},
   "outputs": [],
   "source": [
    "# Calculate the mean of height and weight\n",
    "mean_height = np.mean(height)\n",
    "mean_weight = np.mean(weight)\n"
   ]
  },
  {
   "cell_type": "code",
   "execution_count": 4,
   "metadata": {},
   "outputs": [],
   "source": [
    "# Calculate the slope and intercept of the regression line\n",
    "numerator = np.sum((height - mean_height) * (weight - mean_weight))\n",
    "denominator = np.sum((height - mean_height) ** 2)\n",
    "slope = numerator / denominator\n",
    "intercept = mean_weight - slope * mean_height\n"
   ]
  },
  {
   "cell_type": "code",
   "execution_count": 5,
   "metadata": {},
   "outputs": [],
   "source": [
    "# Predict weights for given heights\n",
    "new_heights = np.array([62, 65, 67, 70])\n",
    "predicted_weights = slope * new_heights + intercept\n"
   ]
  },
  {
   "cell_type": "code",
   "execution_count": 6,
   "metadata": {},
   "outputs": [
    {
     "data": {
      "image/png": "[encoded data removed]",
      "text/plain": [
       "<Figure size 432x288 with 1 Axes>"
      ]
     },
     "metadata": {},
     "output_type": "display_data"
    }
   ],
   "source": [
    "# Plot the regression line and the data points\n",
    "plt.scatter(height, weight, marker='*', label='Data points')\n",
    "plt.plot(height, slope * height + intercept, color='red', label='Regression line')\n",
    "plt.scatter(new_heights, predicted_weights, marker='o', color='green', label='Predicted weights')\n",
    "plt.xlabel('Height (inches)')\n",
    "plt.ylabel('Weight (pounds)')\n",
    "plt.legend()\n",
    "plt.show()\n",
    "\n"
   ]
  }
 ],
 "metadata": {
  "kernelspec": {
   "display_name": "Python 3",
   "language": "python",
   "name": "python3"
  },
  "language_info": {
   "codemirror_mode": {
    "name": "ipython",
    "version": 3
   },
   "file_extension": ".py",
   "mimetype": "text/x-python",
   "name": "python",
   "nbconvert_exporter": "python",
   "pygments_lexer": "ipython3",
   "version": "3.6.5"
  }
 },
 "nbformat": 4,
 "nbformat_minor": 2
}
