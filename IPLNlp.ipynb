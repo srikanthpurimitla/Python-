{
  "cells": [
    {
      "cell_type": "markdown",
      "metadata": {
        "id": "view-in-github",
        "colab_type": "text"
      },
      "source": [
        "<a href=\"https://colab.research.google.com/github/srikanthpurimitla/Python-/blob/main/IPLNlp.ipynb\" target=\"_parent\"><img src=\"https://colab.research.google.com/assets/colab-badge.svg\" alt=\"Open In Colab\"/></a>"
      ]
    },
    {
      "cell_type": "markdown",
      "id": "95f8bb73",
      "metadata": {
        "id": "95f8bb73"
      },
      "source": [
        "<a href=\"https://colab.research.google.com/github/srikanthpurimitla/Python-/blob/main/NLP_usecase.ipynb\" target=\"_parent\"><img src=\"https://colab.research.google.com/assets/colab-badge.svg\" alt=\"Open In Colab\"/></a>"
      ]
    },
    {
      "cell_type": "code",
      "execution_count": null,
      "id": "8e564a42",
      "metadata": {
        "id": "8e564a42"
      },
      "outputs": [],
      "source": [
        "import re\n",
        "import string\n",
        "import nltk\n",
        "from nltk.corpus import stopwords\n",
        "from nltk.tokenize import word_tokenize, sent_tokenize\n",
        "from nltk.stem import PorterStemmer, WordNetLemmatizer"
      ]
    },
    {
      "cell_type": "code",
      "execution_count": null,
      "id": "2560e136",
      "metadata": {
        "id": "2560e136",
        "outputId": "5db2cbb6-c881-4c28-f6e3-323aa426ab67"
      },
      "outputs": [
        {
          "name": "stderr",
          "output_type": "stream",
          "text": [
            "[nltk_data] Downloading package punkt to\n",
            "[nltk_data]     C:\\Users\\DELL\\AppData\\Roaming\\nltk_data...\n",
            "[nltk_data]   Package punkt is already up-to-date!\n",
            "[nltk_data] Downloading package stopwords to\n",
            "[nltk_data]     C:\\Users\\DELL\\AppData\\Roaming\\nltk_data...\n",
            "[nltk_data]   Package stopwords is already up-to-date!\n",
            "[nltk_data] Downloading package wordnet to\n",
            "[nltk_data]     C:\\Users\\DELL\\AppData\\Roaming\\nltk_data...\n",
            "[nltk_data]   Package wordnet is already up-to-date!\n"
          ]
        },
        {
          "data": {
            "text/plain": [
              "True"
            ]
          },
          "execution_count": 2,
          "metadata": {},
          "output_type": "execute_result"
        }
      ],
      "source": [
        "# Download required NLTK data\n",
        "nltk.download('punkt')\n",
        "nltk.download('stopwords')\n",
        "nltk.download('wordnet')"
      ]
    },
    {
      "cell_type": "code",
      "execution_count": null,
      "id": "8dc3f56b",
      "metadata": {
        "id": "8dc3f56b"
      },
      "outputs": [],
      "source": [
        "# Sample IPL news text\n",
        "text = \"\"\"\n",
        "The Indian Premier League (IPL) 2024 season is set to start in April.\n",
        "Chennai Super Kings will face Mumbai Indians in the opening match at Wankhede Stadium.\n",
        "Rohit scored a magnificent century last season. Stay tuned for live updates!\n",
        "Visit https://www.iplt20.com for more details. Contact us at info@ipl.com.\n",
        "\"\"\""
      ]
    },
    {
      "cell_type": "code",
      "execution_count": null,
      "id": "8a9df472",
      "metadata": {
        "id": "8a9df472"
      },
      "outputs": [],
      "source": [
        "# Initialize necessary tools\n",
        "stop_words = set(stopwords.words('english'))\n",
        "stemmer = PorterStemmer()\n",
        "lemmatizer = WordNetLemmatizer()\n"
      ]
    },
    {
      "cell_type": "code",
      "execution_count": null,
      "id": "608e8cf8",
      "metadata": {
        "id": "608e8cf8"
      },
      "outputs": [],
      "source": [
        "\n",
        "def preprocess_text(text):\n",
        "    print(\"Original Text:\\n\", text)\n",
        "\n",
        "    # Convert to lowercase\n",
        "    text = text.lower()\n",
        "    print(\"\\nLowercased Text:\\n\", text)\n",
        "\n",
        "    # Remove URLs\n",
        "    text = re.sub(r'http\\S+|www\\S+|https\\S+', '', text, flags=re.MULTILINE)\n",
        "    print(\"\\nText without URLs:\\n\", text)\n",
        "    #\\S --> white space\n",
        "    # Remove email addresses\n",
        "    text = re.sub(r'\\S*@\\S*\\s?', '', text)\n",
        "    print(\"\\nText without Email Addresses:\\n\", text)\n",
        "    # \\S* matches zero or more non-whitespace characters\n",
        "    #\\s? matches zero or one whitespace character\n",
        "    # Remove punctuation\n",
        "    text = text.translate(str.maketrans('', '', string.punctuation))\n",
        "    print(\"\\nText without Punctuation:\\n\", text)\n",
        "\n",
        "    # Remove numbers\n",
        "    text = re.sub(r'\\d+', '', text)\n",
        "    print(\"\\nText without Numbers:\\n\", text)\n",
        "    #\\d+ matches sequences of one or more digits\n",
        "    # Remove special characters\n",
        "    text = re.sub(r'[^A-Za-z\\s]', '', text)\n",
        "    print(\"\\nText without Special Characters:\\n\", text)\n",
        "    #[^A-Za-z\\s] matches any character that is not an uppercase letter, lowercase letter, or whitespace character\n",
        "    # Tokenize into words\n",
        "    tokens = word_tokenize(text)\n",
        "    print(\"\\nTokenized Text:\\n\", tokens)\n",
        "\n",
        "    # Remove stop words\n",
        "    tokens = [word for word in tokens if word not in stop_words]\n",
        "    print(\"\\nText without Stop Words:\\n\", tokens)\n",
        "\n",
        "    # Stemming (or Lemmatization)\n",
        "    stemmed_tokens = [stemmer.stem(word) for word in tokens]\n",
        "    print(\"\\nStemmed Tokens:\\n\", stemmed_tokens)\n",
        "\n",
        "    lemmatized_tokens = [lemmatizer.lemmatize(word) for word in tokens]\n",
        "    print(\"\\nLemmatized Tokens:\\n\", lemmatized_tokens)\n",
        "\n",
        "    # Join tokens back to string\n",
        "    processed_text = ' '.join(stemmed_tokens)\n",
        "    print(\"\\nProcessed Text:\\n\", processed_text)\n",
        "\n",
        "    return processed_text"
      ]
    },
    {
      "cell_type": "code",
      "execution_count": null,
      "id": "217450db",
      "metadata": {
        "id": "217450db",
        "outputId": "e7137165-8b44-41e2-a38b-49ab034ff077"
      },
      "outputs": [
        {
          "name": "stdout",
          "output_type": "stream",
          "text": [
            "Original Text:\n",
            " \n",
            "The Indian Premier League (IPL) 2024 season is set to start in April.\n",
            "Chennai Super Kings will face Mumbai Indians in the opening match at Wankhede Stadium.\n",
            "Rohit scored a magnificent century last season. Stay tuned for live updates!\n",
            "Visit https://www.iplt20.com for more details. Contact us at info@ipl.com.\n",
            "\n",
            "\n",
            "Lowercased Text:\n",
            " \n",
            "the indian premier league (ipl) 2024 season is set to start in april.\n",
            "chennai super kings will face mumbai indians in the opening match at wankhede stadium.\n",
            "rohit scored a magnificent century last season. stay tuned for live updates!\n",
            "visit https://www.iplt20.com for more details. contact us at info@ipl.com.\n",
            "\n",
            "\n",
            "Text without URLs:\n",
            " \n",
            "the indian premier league (ipl) 2024 season is set to start in april.\n",
            "chennai super kings will face mumbai indians in the opening match at wankhede stadium.\n",
            "rohit scored a magnificent century last season. stay tuned for live updates!\n",
            "visit  for more details. contact us at info@ipl.com.\n",
            "\n",
            "\n",
            "Text without Email Addresses:\n",
            " \n",
            "the indian premier league (ipl) 2024 season is set to start in april.\n",
            "chennai super kings will face mumbai indians in the opening match at wankhede stadium.\n",
            "rohit scored a magnificent century last season. stay tuned for live updates!\n",
            "visit  for more details. contact us at \n",
            "\n",
            "Text without Punctuation:\n",
            " \n",
            "the indian premier league ipl 2024 season is set to start in april\n",
            "chennai super kings will face mumbai indians in the opening match at wankhede stadium\n",
            "rohit scored a magnificent century last season stay tuned for live updates\n",
            "visit  for more details contact us at \n",
            "\n",
            "Text without Numbers:\n",
            " \n",
            "the indian premier league ipl  season is set to start in april\n",
            "chennai super kings will face mumbai indians in the opening match at wankhede stadium\n",
            "rohit scored a magnificent century last season stay tuned for live updates\n",
            "visit  for more details contact us at \n",
            "\n",
            "Text without Special Characters:\n",
            " \n",
            "the indian premier league ipl  season is set to start in april\n",
            "chennai super kings will face mumbai indians in the opening match at wankhede stadium\n",
            "rohit scored a magnificent century last season stay tuned for live updates\n",
            "visit  for more details contact us at \n",
            "\n",
            "Tokenized Text:\n",
            " ['the', 'indian', 'premier', 'league', 'ipl', 'season', 'is', 'set', 'to', 'start', 'in', 'april', 'chennai', 'super', 'kings', 'will', 'face', 'mumbai', 'indians', 'in', 'the', 'opening', 'match', 'at', 'wankhede', 'stadium', 'rohit', 'scored', 'a', 'magnificent', 'century', 'last', 'season', 'stay', 'tuned', 'for', 'live', 'updates', 'visit', 'for', 'more', 'details', 'contact', 'us', 'at']\n",
            "\n",
            "Text without Stop Words:\n",
            " ['indian', 'premier', 'league', 'ipl', 'season', 'set', 'start', 'april', 'chennai', 'super', 'kings', 'face', 'mumbai', 'indians', 'opening', 'match', 'wankhede', 'stadium', 'rohit', 'scored', 'magnificent', 'century', 'last', 'season', 'stay', 'tuned', 'live', 'updates', 'visit', 'details', 'contact', 'us']\n",
            "\n",
            "Stemmed Tokens:\n",
            " ['indian', 'premier', 'leagu', 'ipl', 'season', 'set', 'start', 'april', 'chennai', 'super', 'king', 'face', 'mumbai', 'indian', 'open', 'match', 'wankhed', 'stadium', 'rohit', 'score', 'magnific', 'centuri', 'last', 'season', 'stay', 'tune', 'live', 'updat', 'visit', 'detail', 'contact', 'us']\n",
            "\n",
            "Lemmatized Tokens:\n",
            " ['indian', 'premier', 'league', 'ipl', 'season', 'set', 'start', 'april', 'chennai', 'super', 'king', 'face', 'mumbai', 'indian', 'opening', 'match', 'wankhede', 'stadium', 'rohit', 'scored', 'magnificent', 'century', 'last', 'season', 'stay', 'tuned', 'live', 'update', 'visit', 'detail', 'contact', 'u']\n",
            "\n",
            "Processed Text:\n",
            " indian premier leagu ipl season set start april chennai super king face mumbai indian open match wankhed stadium rohit score magnific centuri last season stay tune live updat visit detail contact us\n"
          ]
        }
      ],
      "source": [
        "# Preprocess the sample text\n",
        "processed_text = preprocess_text(text)"
      ]
    },
    {
      "cell_type": "code",
      "execution_count": null,
      "id": "f1445418",
      "metadata": {
        "colab": {
          "base_uri": "https://localhost:8080/"
        },
        "id": "f1445418",
        "outputId": "a8799612-43b8-41c2-bb60-8f76479935ce"
      },
      "outputs": [
        {
          "name": "stdout",
          "output_type": "stream",
          "text": [
            " Phone Numbers: ['+91 8096696726', ' 9573471012']\n",
            "Email Addresses: ['media@example.com']\n",
            "URLs: ['https://www.iplt20.com.', 'http://iplupdates.com']\n",
            "\n",
            "Masked Text:\n",
            " \n",
            "The IPL 2024 season is set to begin with a match between Mumbai Indians and Chennai Super Kings.\n",
            "Contact the organizers at [PHONE NUMBER] for more details.\n",
            "For media inquiries, reach out at [EMAIL ADDRESS] or visit our website at [URL]\n",
            "In other news, Delhi Capitals announced their new captain.\n",
            "Follow the latest updates on our official site [URL] or call us at[PHONE NUMBER].\n",
            "\n",
            "\n",
            "Sentences: ['\\nThe IPL 2024 season is set to begin with a match between Mumbai Indians and Chennai Super Kings.', 'Contact the organizers at +91 8096696726 for more details.', 'For media inquiries, reach out at media@example.com or visit our website at https://www.iplt20.com.', 'In other news, Delhi Capitals announced their new captain.', 'Follow the latest updates on our official site http://iplupdates.com or call us at 9573471012.', '']\n"
          ]
        },
        {
          "name": "stderr",
          "output_type": "stream",
          "text": [
            "[nltk_data] Downloading package punkt to\n",
            "[nltk_data]     C:\\Users\\DELL\\AppData\\Roaming\\nltk_data...\n",
            "[nltk_data]   Package punkt is already up-to-date!\n"
          ]
        }
      ],
      "source": [
        "#RegEX\n",
        "import re\n",
        "import nltk\n",
        "from nltk.tokenize import sent_tokenize\n",
        "\n",
        "# Download required NLTK data\n",
        "nltk.download('punkt')\n",
        "\n",
        "# Sample IPL news text\n",
        "text = \"\"\"\n",
        "The IPL 2024 season is set to begin with a match between Mumbai Indians and Chennai Super Kings.\n",
        "Contact the organizers at +91 8096696726 for more details.\n",
        "For media inquiries, reach out at media@example.com or visit our website at https://www.iplt20.com.\n",
        "In other news, Delhi Capitals announced their new captain.\n",
        "Follow the latest updates on our official site http://iplupdates.com or call us at 9573471012.\n",
        "\"\"\"\n",
        "\n",
        "# Define regex patterns\n",
        "phone_pattern = re.compile(r'(?:\\+91|91)?[-.\\s]?[6789]\\d{9}')\n",
        "email_pattern = re.compile(r'[a-zA-Z0-9._%+-]+@[a-zA-Z0-9.-]+\\.[a-zA-Z]{2,}')\n",
        "url_pattern = re.compile(r'https?://[^\\s]+')\n",
        "\n",
        "# Extract  phone numbers\n",
        "phone_numbers = phone_pattern.findall(text)\n",
        "print(\" Phone Numbers:\", phone_numbers)\n",
        "\n",
        "# Extract email addresses\n",
        "email_addresses = email_pattern.findall(text)\n",
        "print(\"Email Addresses:\", email_addresses)\n",
        "\n",
        "# Extract URLs\n",
        "urls = url_pattern.findall(text)\n",
        "print(\"URLs:\", urls)\n",
        "\n",
        "# Mask Indian phone numbers\n",
        "masked_text = phone_pattern.sub('[PHONE NUMBER]', text)\n",
        "\n",
        "# Mask email addresses\n",
        "masked_text = email_pattern.sub('[EMAIL ADDRESS]', masked_text)\n",
        "\n",
        "# Mask URLs\n",
        "masked_text = url_pattern.sub('[URL]', masked_text)\n",
        "\n",
        "# Print masked text\n",
        "print(\"\\nMasked Text:\\n\", masked_text)\n",
        "\n",
        "# Split text into sentences\n",
        "sentence_pattern = re.compile(r'(?<!\\w\\.\\w.)(?<![A-Z][a-z]\\.)(?<=\\.|\\?)\\s')\n",
        "sentences = sentence_pattern.split(text)\n",
        "print(\"\\nSentences:\", sentences)\n"
      ]
    },
    {
      "cell_type": "code",
      "execution_count": null,
      "id": "8d853793",
      "metadata": {
        "id": "8d853793"
      },
      "outputs": [],
      "source": []
    },
    {
      "cell_type": "code",
      "execution_count": null,
      "id": "bf2a4546",
      "metadata": {
        "id": "bf2a4546"
      },
      "outputs": [],
      "source": []
    }
  ],
  "metadata": {
    "colab": {
      "provenance": [],
      "include_colab_link": true
    },
    "kernelspec": {
      "display_name": "Python 3 (ipykernel)",
      "language": "python",
      "name": "python3"
    },
    "language_info": {
      "codemirror_mode": {
        "name": "ipython",
        "version": 3
      },
      "file_extension": ".py",
      "mimetype": "text/x-python",
      "name": "python",
      "nbconvert_exporter": "python",
      "pygments_lexer": "ipython3",
      "version": "3.12.4"
    }
  },
  "nbformat": 4,
  "nbformat_minor": 5
}